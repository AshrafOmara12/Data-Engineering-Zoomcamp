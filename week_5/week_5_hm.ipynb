{
 "cells": [
  {
   "cell_type": "code",
   "execution_count": 30,
   "id": "7deb028f",
   "metadata": {},
   "outputs": [],
   "source": [
    "import pandas as pd\n",
    "from pyspark.sql import types\n",
    "from pyspark.sql import functions as F"
   ]
  },
  {
   "cell_type": "code",
   "execution_count": 2,
   "id": "0dbf1c73",
   "metadata": {},
   "outputs": [
    {
     "name": "stdout",
     "output_type": "stream",
     "text": [
      "23/03/05 13:23:15 WARN Utils: Your hostname, Ashrafs-iMac.local resolves to a loopback address: 127.0.0.1; using 172.23.23.25 instead (on interface en0)\n",
      "23/03/05 13:23:15 WARN Utils: Set SPARK_LOCAL_IP if you need to bind to another address\n"
     ]
    },
    {
     "name": "stderr",
     "output_type": "stream",
     "text": [
      "Setting default log level to \"WARN\".\n",
      "To adjust logging level use sc.setLogLevel(newLevel). For SparkR, use setLogLevel(newLevel).\n"
     ]
    },
    {
     "name": "stdout",
     "output_type": "stream",
     "text": [
      "23/03/05 13:23:16 WARN NativeCodeLoader: Unable to load native-hadoop library for your platform... using builtin-java classes where applicable\n"
     ]
    }
   ],
   "source": [
    "import pyspark\n",
    "from pyspark.sql import SparkSession\n",
    "\n",
    "spark = SparkSession.builder \\\n",
    "    .master(\"local[*]\") \\\n",
    "    .appName('test') \\\n",
    "    .getOrCreate()"
   ]
  },
  {
   "cell_type": "code",
   "execution_count": 45,
   "id": "b2485642",
   "metadata": {},
   "outputs": [],
   "source": [
    "df_fhvhv = spark.read \\\n",
    ".option(\"header\",True) \\\n",
    ".schema(df_fhvhv_schema) \\\n",
    ".csv(\"fhvhv_tripdata_2021-06.csv.gz\")"
   ]
  },
  {
   "cell_type": "code",
   "execution_count": 46,
   "id": "131e4696",
   "metadata": {},
   "outputs": [
    {
     "name": "stdout",
     "output_type": "stream",
     "text": [
      "+--------------------+-------------------+----------------------+\n",
      "|dispatching_base_num|    pickup_datetime|Affiliated_base_number|\n",
      "+--------------------+-------------------+----------------------+\n",
      "|              B02764|2021-06-01 00:02:41|                B02764|\n",
      "|              B02764|2021-06-01 00:16:16|                B02764|\n",
      "|              B02764|2021-06-01 00:27:01|                B02764|\n",
      "|              B02764|2021-06-01 00:46:08|                B02764|\n",
      "|              B02510|2021-06-01 00:45:42|                  null|\n",
      "|              B02510|2021-06-01 00:18:15|                  null|\n",
      "|              B02510|2021-06-01 00:33:06|                  null|\n",
      "|              B02510|2021-06-01 00:46:27|                  null|\n",
      "|              B02764|2021-06-01 00:48:06|                B02764|\n",
      "|              B02875|2021-06-01 00:18:54|                B02875|\n",
      "|              B02875|2021-06-01 00:31:02|                B02875|\n",
      "|              B02875|2021-06-01 00:41:53|                B02875|\n",
      "|              B02875|2021-06-01 00:29:52|                B02875|\n",
      "|              B02510|2021-06-01 00:15:57|                  null|\n",
      "|              B02510|2021-06-01 00:11:59|                  null|\n",
      "|              B02510|2021-06-01 00:30:35|                  null|\n",
      "|              B02510|2021-06-01 00:49:01|                  null|\n",
      "|              B02510|2021-06-01 00:07:36|                  null|\n",
      "|              B02510|2021-06-01 00:25:48|                  null|\n",
      "|              B02510|2021-06-01 00:46:11|                  null|\n",
      "+--------------------+-------------------+----------------------+\n",
      "only showing top 20 rows\n",
      "\n"
     ]
    }
   ],
   "source": [
    "df_fhvhv.select(\"dispatching_base_num\", \"pickup_datetime\", \"Affiliated_base_number\").show()"
   ]
  },
  {
   "cell_type": "code",
   "execution_count": 47,
   "id": "09533372",
   "metadata": {},
   "outputs": [
    {
     "name": "stderr",
     "output_type": "stream",
     "text": [
      "                                                                                \r"
     ]
    },
    {
     "data": {
      "text/plain": [
       "14961892"
      ]
     },
     "execution_count": 47,
     "metadata": {},
     "output_type": "execute_result"
    }
   ],
   "source": [
    "df_fhvhv.count()"
   ]
  },
  {
   "cell_type": "code",
   "execution_count": 48,
   "id": "acf8499e",
   "metadata": {},
   "outputs": [
    {
     "name": "stdout",
     "output_type": "stream",
     "text": [
      "root\n",
      " |-- dispatching_base_num: string (nullable = true)\n",
      " |-- pickup_datetime: timestamp (nullable = true)\n",
      " |-- dropoff_datetime: timestamp (nullable = true)\n",
      " |-- PULocationID: integer (nullable = true)\n",
      " |-- DOLocationID: integer (nullable = true)\n",
      " |-- SR_Flag: string (nullable = true)\n",
      " |-- Affiliated_base_number: string (nullable = true)\n",
      "\n"
     ]
    }
   ],
   "source": [
    "df_fhvhv.printSchema()"
   ]
  },
  {
   "cell_type": "code",
   "execution_count": 44,
   "id": "40db1e2b",
   "metadata": {},
   "outputs": [],
   "source": [
    "df_fhvhv_schema = types.StructType([\n",
    "    types.StructField(\"dispatching_base_num\", types.StringType(), True),\n",
    "    types.StructField(\"pickup_datetime\", types.TimestampType(), True),\n",
    "    types.StructField(\"dropoff_datetime\", types.TimestampType(), True),\n",
    "    types.StructField(\"PULocationID\", types.IntegerType(), True),\n",
    "    types.StructField(\"DOLocationID\", types.IntegerType(), True),\n",
    "    types.StructField(\"SR_Flag\", types.StringType(), True),\n",
    "    types.StructField(\"Affiliated_base_number\", types.StringType(), True),\n",
    "])"
   ]
  },
  {
   "cell_type": "code",
   "execution_count": 50,
   "id": "a21573d9",
   "metadata": {},
   "outputs": [
    {
     "name": "stderr",
     "output_type": "stream",
     "text": [
      "\r",
      "[Stage 35:>                                                         (0 + 1) / 1]\r"
     ]
    },
    {
     "name": "stdout",
     "output_type": "stream",
     "text": [
      "23/03/05 14:27:23 WARN MemoryManager: Total allocation exceeds 95.00% (1,020,054,720 bytes) of heap memory\n",
      "Scaling row group sizes to 95.00% for 8 writers\n"
     ]
    },
    {
     "name": "stderr",
     "output_type": "stream",
     "text": [
      "\r",
      "[Stage 37:>                                                        (0 + 8) / 12]\r"
     ]
    },
    {
     "name": "stdout",
     "output_type": "stream",
     "text": [
      "23/03/05 14:27:27 WARN MemoryManager: Total allocation exceeds 95.00% (1,020,054,720 bytes) of heap memory\n",
      "Scaling row group sizes to 95.00% for 8 writers\n"
     ]
    },
    {
     "name": "stderr",
     "output_type": "stream",
     "text": [
      "                                                                                \r"
     ]
    }
   ],
   "source": [
    "df_fhvhv \\\n",
    ".repartition(12) \\\n",
    ".write.parquet('data', mode= 'overwrite')"
   ]
  },
  {
   "cell_type": "code",
   "execution_count": 51,
   "id": "efd2e169",
   "metadata": {},
   "outputs": [],
   "source": [
    "df_fhvhv_parquet = spark.read.parquet('data')"
   ]
  },
  {
   "cell_type": "code",
   "execution_count": 52,
   "id": "53778a44",
   "metadata": {},
   "outputs": [
    {
     "name": "stdout",
     "output_type": "stream",
     "text": [
      "+-------------------+\n",
      "|    pickup_datetime|\n",
      "+-------------------+\n",
      "|2021-06-11 12:28:02|\n",
      "|2021-06-13 08:46:22|\n",
      "|2021-06-28 18:39:27|\n",
      "|2021-06-05 18:15:05|\n",
      "|2021-06-06 19:15:38|\n",
      "|2021-06-07 18:59:58|\n",
      "|2021-06-09 15:27:48|\n",
      "|2021-06-27 03:39:56|\n",
      "|2021-06-09 11:39:03|\n",
      "|2021-06-20 11:16:26|\n",
      "|2021-06-25 16:14:53|\n",
      "|2021-06-13 18:13:03|\n",
      "|2021-06-14 03:50:52|\n",
      "|2021-06-25 18:37:30|\n",
      "|2021-06-05 14:27:04|\n",
      "|2021-06-28 21:40:22|\n",
      "|2021-06-29 22:08:20|\n",
      "|2021-06-25 14:41:35|\n",
      "|2021-06-09 22:13:23|\n",
      "|2021-06-30 22:01:58|\n",
      "+-------------------+\n",
      "only showing top 20 rows\n",
      "\n"
     ]
    }
   ],
   "source": [
    "df_fhvhv_parquet.select('pickup_datetime').show()"
   ]
  },
  {
   "cell_type": "code",
   "execution_count": 53,
   "id": "8909e7aa",
   "metadata": {},
   "outputs": [],
   "source": [
    "df_fhvhv_parquet.createOrReplaceTempView('df_fhvhv_parquet')"
   ]
  },
  {
   "cell_type": "code",
   "execution_count": 54,
   "id": "5409b0c8",
   "metadata": {},
   "outputs": [
    {
     "name": "stdout",
     "output_type": "stream",
     "text": [
      "+--------+\n",
      "|count(1)|\n",
      "+--------+\n",
      "|  452470|\n",
      "+--------+\n",
      "\n"
     ]
    }
   ],
   "source": [
    "spark.sql(\"\"\"\n",
    "SELECT \n",
    "    COUNT(1)\n",
    "FROM\n",
    "    df_fhvhv_parquet\n",
    "WHERE pickup_datetime \n",
    "    BETWEEN \"2021-06-15 00:00:00\" AND \"2021-06-15 23:59:59\"\n",
    "\"\"\").show()"
   ]
  },
  {
   "cell_type": "code",
   "execution_count": 55,
   "id": "11c77d97",
   "metadata": {},
   "outputs": [
    {
     "data": {
      "text/plain": [
       "452470"
      ]
     },
     "execution_count": 55,
     "metadata": {},
     "output_type": "execute_result"
    }
   ],
   "source": [
    "df_fhvhv_parquet \\\n",
    ".filter(F.col(\"pickup_datetime\").between(\"2021-06-15 00:00:00\", \"2021-06-15 23:59:59\")) \\\n",
    ".count()"
   ]
  },
  {
   "cell_type": "code",
   "execution_count": 84,
   "id": "49cb2758",
   "metadata": {},
   "outputs": [
    {
     "name": "stderr",
     "output_type": "stream",
     "text": [
      "[Stage 84:======================================>                  (8 + 4) / 12]\r"
     ]
    },
    {
     "name": "stdout",
     "output_type": "stream",
     "text": [
      "+----------------+\n",
      "|      difference|\n",
      "+----------------+\n",
      "|66.8788888888889|\n",
      "+----------------+\n",
      "\n"
     ]
    },
    {
     "name": "stderr",
     "output_type": "stream",
     "text": [
      "\r",
      "                                                                                \r"
     ]
    }
   ],
   "source": [
    "spark.sql(\"\"\"\n",
    "SELECT \n",
    "MAX(TIMESTAMPDIFF(SECOND, pickup_datetime, dropoff_datetime))/3600 AS difference\n",
    "FROM\n",
    "    df_fhvhv_parquet\n",
    "\"\"\").show()"
   ]
  },
  {
   "cell_type": "code",
   "execution_count": 71,
   "id": "9981b662",
   "metadata": {},
   "outputs": [],
   "source": [
    "df_zones = spark.read \\\n",
    ".option(\"header\", True) \\\n",
    ".schema(df_fhvhv_schema) \\\n",
    ".csv('zones')"
   ]
  },
  {
   "cell_type": "code",
   "execution_count": 65,
   "id": "3f4b9709",
   "metadata": {},
   "outputs": [
    {
     "name": "stdout",
     "output_type": "stream",
     "text": [
      "+----------+-------------+--------------------+------------+\n",
      "|LocationID|      Borough|                Zone|service_zone|\n",
      "+----------+-------------+--------------------+------------+\n",
      "|         1|          EWR|      Newark Airport|         EWR|\n",
      "|         2|       Queens|         Jamaica Bay|   Boro Zone|\n",
      "|         3|        Bronx|Allerton/Pelham G...|   Boro Zone|\n",
      "|         4|    Manhattan|       Alphabet City| Yellow Zone|\n",
      "|         5|Staten Island|       Arden Heights|   Boro Zone|\n",
      "|         6|Staten Island|Arrochar/Fort Wad...|   Boro Zone|\n",
      "|         7|       Queens|             Astoria|   Boro Zone|\n",
      "|         8|       Queens|        Astoria Park|   Boro Zone|\n",
      "|         9|       Queens|          Auburndale|   Boro Zone|\n",
      "|        10|       Queens|        Baisley Park|   Boro Zone|\n",
      "|        11|     Brooklyn|          Bath Beach|   Boro Zone|\n",
      "|        12|    Manhattan|        Battery Park| Yellow Zone|\n",
      "|        13|    Manhattan|   Battery Park City| Yellow Zone|\n",
      "|        14|     Brooklyn|           Bay Ridge|   Boro Zone|\n",
      "|        15|       Queens|Bay Terrace/Fort ...|   Boro Zone|\n",
      "|        16|       Queens|             Bayside|   Boro Zone|\n",
      "|        17|     Brooklyn|             Bedford|   Boro Zone|\n",
      "|        18|        Bronx|        Bedford Park|   Boro Zone|\n",
      "|        19|       Queens|           Bellerose|   Boro Zone|\n",
      "|        20|        Bronx|             Belmont|   Boro Zone|\n",
      "+----------+-------------+--------------------+------------+\n",
      "only showing top 20 rows\n",
      "\n"
     ]
    }
   ],
   "source": [
    "df_zones.show()"
   ]
  },
  {
   "cell_type": "code",
   "execution_count": 72,
   "id": "06b7f385",
   "metadata": {},
   "outputs": [
    {
     "name": "stdout",
     "output_type": "stream",
     "text": [
      "root\n",
      " |-- LocationID: integer (nullable = true)\n",
      " |-- Borough: string (nullable = true)\n",
      " |-- Zone: string (nullable = true)\n",
      " |-- service_zone: string (nullable = true)\n",
      "\n"
     ]
    }
   ],
   "source": [
    "df_zones.printSchema()"
   ]
  },
  {
   "cell_type": "code",
   "execution_count": 69,
   "id": "c3947544",
   "metadata": {},
   "outputs": [],
   "source": [
    "df_fhvhv_schema = types.StructType([\n",
    "    types.StructField(\"LocationID\", types.IntegerType(), True),\n",
    "    types.StructField(\"Borough\", types.StringType(), True),\n",
    "    types.StructField(\"Zone\", types.StringType(), True),\n",
    "    types.StructField(\"service_zone\", types.StringType(), True),\n",
    "])"
   ]
  },
  {
   "cell_type": "code",
   "execution_count": 73,
   "id": "9b8fc9d1",
   "metadata": {},
   "outputs": [],
   "source": [
    "df_zones.createOrReplaceTempView(\"df_zones\")"
   ]
  },
  {
   "cell_type": "code",
   "execution_count": 77,
   "id": "68d4f3c4",
   "metadata": {},
   "outputs": [
    {
     "name": "stdout",
     "output_type": "stream",
     "text": [
      "+--------------------+-------------------+\n",
      "|                Zone|count(PULocationID)|\n",
      "+--------------------+-------------------+\n",
      "| Crown Heights North|             231279|\n",
      "|        East Village|             221244|\n",
      "|         JFK Airport|             188867|\n",
      "|      Bushwick South|             187929|\n",
      "|       East New York|             186780|\n",
      "|TriBeCa/Civic Center|             164344|\n",
      "|   LaGuardia Airport|             161596|\n",
      "|            Union Sq|             158937|\n",
      "|        West Village|             154698|\n",
      "|             Astoria|             152493|\n",
      "|     Lower East Side|             151020|\n",
      "|        East Chelsea|             147673|\n",
      "|Central Harlem North|             146402|\n",
      "|Williamsburg (Nor...|             143683|\n",
      "|          Park Slope|             143594|\n",
      "|  Stuyvesant Heights|             141427|\n",
      "|        Clinton East|             139611|\n",
      "|West Chelsea/Huds...|             139431|\n",
      "|             Bedford|             138428|\n",
      "|         Murray Hill|             137879|\n",
      "+--------------------+-------------------+\n",
      "only showing top 20 rows\n",
      "\n"
     ]
    }
   ],
   "source": [
    "spark.sql(\n",
    "\"\"\"\n",
    "SELECT\n",
    "       df_zones.Zone, COUNT(PULocationID)\n",
    "FROM \n",
    "    df_fhvhv_parquet\n",
    "JOIN \n",
    "    df_zones\n",
    "ON \n",
    "    df_fhvhv_parquet.PULocationID = df_zones.LocationID\n",
    "    \n",
    "GROUP BY\n",
    "    1\n",
    "ORDER BY\n",
    "    2 DESC\n",
    "\"\"\"\n",
    "\n",
    ").show()"
   ]
  },
  {
   "cell_type": "code",
   "execution_count": null,
   "id": "7ba9d010",
   "metadata": {},
   "outputs": [],
   "source": []
  }
 ],
 "metadata": {
  "kernelspec": {
   "display_name": "Python 3 (ipykernel)",
   "language": "python",
   "name": "python3"
  },
  "language_info": {
   "codemirror_mode": {
    "name": "ipython",
    "version": 3
   },
   "file_extension": ".py",
   "mimetype": "text/x-python",
   "name": "python",
   "nbconvert_exporter": "python",
   "pygments_lexer": "ipython3",
   "version": "3.10.10"
  }
 },
 "nbformat": 4,
 "nbformat_minor": 5
}
